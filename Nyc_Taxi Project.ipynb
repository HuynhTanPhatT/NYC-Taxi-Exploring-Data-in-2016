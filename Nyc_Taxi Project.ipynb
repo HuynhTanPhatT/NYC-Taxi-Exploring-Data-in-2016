{
 "cells": [
  {
   "cell_type": "markdown",
   "id": "ab3c9781",
   "metadata": {},
   "source": [
    "# 📊 Project: Exploring NYC Taxi Data in 2016 with Python"
   ]
  },
  {
   "cell_type": "markdown",
   "id": "d99b716e",
   "metadata": {},
   "source": [
    "## Introduction\n",
    "- Thesedays, with the high population density in `New York City (NYC)`, ***for-hire vehicles*** have become a convenient and comfortable option for people <span style = \"color:red;\"> who need to travel, who do not own a car,want to avoid finding parking lot, commute for work or study. \n",
    "- In this project, i am going to work as a Data Analyst to explore and analyze a small \"NYC Taxi\" dataset.\n",
    "- The purpose of this EDA is to determine:\n",
    "    1. ***How many taxi trips were taken in a particular month?***\n",
    "    2. ***Which is the busiest airport?***\n",
    "    3. ***What are the averages for trip distance, trip length, and total amount for rides under a particular speed?***"
   ]
  },
  {
   "cell_type": "code",
   "execution_count": 1,
   "id": "3438a17f",
   "metadata": {},
   "outputs": [],
   "source": [
    "#Importing necessary libraries\n",
    "import numpy as np\n",
    "import pandas as pd\n",
    "import calendar\n",
    "from matplotlib import pyplot as plt\n",
    "from collections import defaultdict\n",
    "from IPython.display import display, Markdown # In kết quả tô đậm bằng Markdown"
   ]
  },
  {
   "cell_type": "markdown",
   "id": "4846ccfe",
   "metadata": {},
   "source": [
    "\n",
    "## Table of Contents\n",
    "1. [Project](#Project:Exploring-NYC-Taxi-Data-in-2016-with-Python)\n",
    "    * [Introduction](#Introduction)\n",
    "    * [Table of Contents](#Table-of-Contents)\n",
    "    * [Data Descriptions](#Descriptions-of-columns)\n",
    "    * [Mapping Table](#Mapping-Table)\n",
    "2. [Data Exploration](#Data-Exploration)\n",
    "    * [Data Quality Report](#Data-Quality-Report)\n",
    "    * [NYC Taxi Data: Taxi Trips and Time Patterns](#NYC-Taxi-Data-Taxi-Trips-and-Time-Patterns)\n",
    "        * [Number of Pickups in a Specific Month](#Number-of-pickups-in-a-specific-month)\n",
    "        * [Taxi Trips by Months Overview](#Taxi-Trips-by-Month-Overview)\n",
    "        * [Highest Date in a month](#The-date-in-a-month-with-the-highest-number-of-trips)\n",
    "    * [NYC Taxi Data: Analyzing Airport Pickup Traffic in the US](#Analyzing-Airport-Pickup-Traffic-in-the-US)\n",
    "        * [Taxi Pickups Overview](#Taxi-Pickups-Overview)\n",
    "        * [Revenues of Airports with Payment Method](#Revenues-of-Airports-with-Payment-Method)\n",
    "3. [Average Metrics for a trip](#Calculating-averages-for-trip-distance,-trip-length-and-total-amount-for-rides-under-a-particular-speed)\n",
    "4. [Conclusion](#Conclusion)\n",
    "       "
   ]
  },
  {
   "cell_type": "markdown",
   "id": "fadc544c",
   "metadata": {},
   "source": [
    "## Descriptions of columns\n",
    "- 📅 ***pickup_year***: Trip's year\n",
    "- 📅 ***pickup_month***: Trip's month (January is 1, December is 12)\n",
    "- 📅 ***pickup_day**: Trip's day of the month\n",
    "- 📍 ***pickup_location_code***: Starting airport or borough\n",
    "- 📍 ***dropoff_location_code***: Ending airport or borough\n",
    "- 📏 ***trip_distance***: Trip distance in miles\n",
    "- ⏱️ ***trip_length***: Trip length in seconds\n",
    "- 💵 ***fare_amount***: Base fare in dollars\n",
    "- 💰 ***total_amount***: Total amount charged, including all fees, tolls, and tips"
   ]
  },
  {
   "cell_type": "markdown",
   "id": "e1f7b4ad",
   "metadata": {},
   "source": [
    "## Mapping Table\n",
    "\n",
    "|Code   |🗺️ Pickup_Location_Code|⏰ Pick_Up_Time |💳 Payment_Type|\n",
    "|:-----:|:----                  |:----         |:----       |\n",
    "|0      |Bronx                  |0:00AM-3:59AM |#NA         |\n",
    "|1      |Brooklyn               |4:00AM-7:59AM |Credit Card |\n",
    "|2      |JFK                    |8:00AM-11:59AM|Cash        |\n",
    "|3      |LaGuardia              |12:00PM-3:59PM|No carge    |\n",
    "|4      |Manhattan              |4:00PM-7:59PM |Dispute     |\n",
    "|5      |Newark Airport         |8:00PM-11:59PM|#NA         |\n",
    "|6      |Queens                 |#NA           | #NA        |\n",
    "|7      |Staten Island          |#NA           | #NA        |\n"
   ]
  },
  {
   "cell_type": "markdown",
   "id": "5ff7bfcd",
   "metadata": {},
   "source": [
    "# Data Exploration"
   ]
  },
  {
   "cell_type": "markdown",
   "id": "d7c38882",
   "metadata": {},
   "source": [
    "- The URL of the dataset: https://www.nyc.gov/site/tlc/about/tlc-trip-record-data.page\n",
    " `[This dataset includes a 1/50th random sample of all trips between January and June 2016 that either start or end at an aiport location.]`\n",
    "- The data dictionary: https://s3.amazonaws.com/dq-content/290/nyc_taxi_data_dictionary.md\n",
    "- The date of the data from Jan 2016 to July 2016"
   ]
  },
  {
   "cell_type": "code",
   "execution_count": 2,
   "id": "8483d82d",
   "metadata": {},
   "outputs": [],
   "source": [
    "taxi = np.genfromtxt('nyc_taxis.csv',dtype=int,delimiter = ',', skip_header=1)"
   ]
  },
  {
   "cell_type": "markdown",
   "id": "729f71c6",
   "metadata": {},
   "source": [
    "* <span style=\"color: red;\"> Note: Using set_printoptions to determine the way floating point numbers, arrays and other NumPy objects are displayed."
   ]
  },
  {
   "cell_type": "code",
   "execution_count": 3,
   "id": "9af010ca",
   "metadata": {},
   "outputs": [],
   "source": [
    "np.set_printoptions(precision=2,suppress=True)"
   ]
  },
  {
   "cell_type": "markdown",
   "id": "c4d4879d",
   "metadata": {},
   "source": [
    "## Data Quality Report"
   ]
  },
  {
   "cell_type": "code",
   "execution_count": 4,
   "id": "f6017229",
   "metadata": {},
   "outputs": [],
   "source": [
    "TAXI = pd.read_csv('C:/Users/admin/Documents/DATA ANALYST/Project/2025/Python In DA/II_Pandas/nyc_taxis/nyc_taxis.csv')"
   ]
  },
  {
   "cell_type": "code",
   "execution_count": 5,
   "id": "11acbe68",
   "metadata": {},
   "outputs": [
    {
     "data": {
      "text/html": [
       "<div>\n",
       "<style scoped>\n",
       "    .dataframe tbody tr th:only-of-type {\n",
       "        vertical-align: middle;\n",
       "    }\n",
       "\n",
       "    .dataframe tbody tr th {\n",
       "        vertical-align: top;\n",
       "    }\n",
       "\n",
       "    .dataframe thead th {\n",
       "        text-align: right;\n",
       "    }\n",
       "</style>\n",
       "<table border=\"1\" class=\"dataframe\">\n",
       "  <thead>\n",
       "    <tr style=\"text-align: right;\">\n",
       "      <th></th>\n",
       "      <th>pickup_year</th>\n",
       "      <th>pickup_month</th>\n",
       "      <th>pickup_day</th>\n",
       "      <th>pickup_dayofweek</th>\n",
       "      <th>pickup_time</th>\n",
       "      <th>pickup_location_code</th>\n",
       "      <th>dropoff_location_code</th>\n",
       "      <th>trip_distance</th>\n",
       "      <th>trip_length</th>\n",
       "      <th>fare_amount</th>\n",
       "      <th>fees_amount</th>\n",
       "      <th>tolls_amount</th>\n",
       "      <th>tip_amount</th>\n",
       "      <th>total_amount</th>\n",
       "      <th>payment_type</th>\n",
       "    </tr>\n",
       "  </thead>\n",
       "  <tbody>\n",
       "    <tr>\n",
       "      <th>0</th>\n",
       "      <td>2016</td>\n",
       "      <td>1</td>\n",
       "      <td>1</td>\n",
       "      <td>5</td>\n",
       "      <td>0</td>\n",
       "      <td>2</td>\n",
       "      <td>4</td>\n",
       "      <td>21.00</td>\n",
       "      <td>2037</td>\n",
       "      <td>52.0</td>\n",
       "      <td>0.8</td>\n",
       "      <td>5.54</td>\n",
       "      <td>11.65</td>\n",
       "      <td>69.99</td>\n",
       "      <td>1</td>\n",
       "    </tr>\n",
       "    <tr>\n",
       "      <th>1</th>\n",
       "      <td>2016</td>\n",
       "      <td>1</td>\n",
       "      <td>1</td>\n",
       "      <td>5</td>\n",
       "      <td>0</td>\n",
       "      <td>2</td>\n",
       "      <td>1</td>\n",
       "      <td>16.29</td>\n",
       "      <td>1520</td>\n",
       "      <td>45.0</td>\n",
       "      <td>1.3</td>\n",
       "      <td>0.00</td>\n",
       "      <td>8.00</td>\n",
       "      <td>54.30</td>\n",
       "      <td>1</td>\n",
       "    </tr>\n",
       "    <tr>\n",
       "      <th>2</th>\n",
       "      <td>2016</td>\n",
       "      <td>1</td>\n",
       "      <td>1</td>\n",
       "      <td>5</td>\n",
       "      <td>0</td>\n",
       "      <td>2</td>\n",
       "      <td>6</td>\n",
       "      <td>12.70</td>\n",
       "      <td>1462</td>\n",
       "      <td>36.5</td>\n",
       "      <td>1.3</td>\n",
       "      <td>0.00</td>\n",
       "      <td>0.00</td>\n",
       "      <td>37.80</td>\n",
       "      <td>2</td>\n",
       "    </tr>\n",
       "    <tr>\n",
       "      <th>3</th>\n",
       "      <td>2016</td>\n",
       "      <td>1</td>\n",
       "      <td>1</td>\n",
       "      <td>5</td>\n",
       "      <td>0</td>\n",
       "      <td>2</td>\n",
       "      <td>6</td>\n",
       "      <td>8.70</td>\n",
       "      <td>1210</td>\n",
       "      <td>26.0</td>\n",
       "      <td>1.3</td>\n",
       "      <td>0.00</td>\n",
       "      <td>5.46</td>\n",
       "      <td>32.76</td>\n",
       "      <td>1</td>\n",
       "    </tr>\n",
       "    <tr>\n",
       "      <th>4</th>\n",
       "      <td>2016</td>\n",
       "      <td>1</td>\n",
       "      <td>1</td>\n",
       "      <td>5</td>\n",
       "      <td>0</td>\n",
       "      <td>2</td>\n",
       "      <td>6</td>\n",
       "      <td>5.56</td>\n",
       "      <td>759</td>\n",
       "      <td>17.5</td>\n",
       "      <td>1.3</td>\n",
       "      <td>0.00</td>\n",
       "      <td>0.00</td>\n",
       "      <td>18.80</td>\n",
       "      <td>2</td>\n",
       "    </tr>\n",
       "    <tr>\n",
       "      <th>...</th>\n",
       "      <td>...</td>\n",
       "      <td>...</td>\n",
       "      <td>...</td>\n",
       "      <td>...</td>\n",
       "      <td>...</td>\n",
       "      <td>...</td>\n",
       "      <td>...</td>\n",
       "      <td>...</td>\n",
       "      <td>...</td>\n",
       "      <td>...</td>\n",
       "      <td>...</td>\n",
       "      <td>...</td>\n",
       "      <td>...</td>\n",
       "      <td>...</td>\n",
       "      <td>...</td>\n",
       "    </tr>\n",
       "    <tr>\n",
       "      <th>2008</th>\n",
       "      <td>2016</td>\n",
       "      <td>6</td>\n",
       "      <td>30</td>\n",
       "      <td>4</td>\n",
       "      <td>5</td>\n",
       "      <td>3</td>\n",
       "      <td>4</td>\n",
       "      <td>9.50</td>\n",
       "      <td>1989</td>\n",
       "      <td>31.0</td>\n",
       "      <td>1.3</td>\n",
       "      <td>5.54</td>\n",
       "      <td>3.00</td>\n",
       "      <td>40.84</td>\n",
       "      <td>1</td>\n",
       "    </tr>\n",
       "    <tr>\n",
       "      <th>2009</th>\n",
       "      <td>2016</td>\n",
       "      <td>6</td>\n",
       "      <td>30</td>\n",
       "      <td>4</td>\n",
       "      <td>5</td>\n",
       "      <td>2</td>\n",
       "      <td>4</td>\n",
       "      <td>19.80</td>\n",
       "      <td>2368</td>\n",
       "      <td>52.0</td>\n",
       "      <td>0.8</td>\n",
       "      <td>5.54</td>\n",
       "      <td>0.00</td>\n",
       "      <td>58.34</td>\n",
       "      <td>1</td>\n",
       "    </tr>\n",
       "    <tr>\n",
       "      <th>2010</th>\n",
       "      <td>2016</td>\n",
       "      <td>6</td>\n",
       "      <td>30</td>\n",
       "      <td>4</td>\n",
       "      <td>5</td>\n",
       "      <td>2</td>\n",
       "      <td>4</td>\n",
       "      <td>17.48</td>\n",
       "      <td>2822</td>\n",
       "      <td>52.0</td>\n",
       "      <td>0.8</td>\n",
       "      <td>5.54</td>\n",
       "      <td>5.00</td>\n",
       "      <td>63.34</td>\n",
       "      <td>1</td>\n",
       "    </tr>\n",
       "    <tr>\n",
       "      <th>2011</th>\n",
       "      <td>2016</td>\n",
       "      <td>6</td>\n",
       "      <td>30</td>\n",
       "      <td>4</td>\n",
       "      <td>5</td>\n",
       "      <td>2</td>\n",
       "      <td>6</td>\n",
       "      <td>12.76</td>\n",
       "      <td>1083</td>\n",
       "      <td>34.5</td>\n",
       "      <td>1.3</td>\n",
       "      <td>0.00</td>\n",
       "      <td>8.95</td>\n",
       "      <td>44.75</td>\n",
       "      <td>1</td>\n",
       "    </tr>\n",
       "    <tr>\n",
       "      <th>2012</th>\n",
       "      <td>2016</td>\n",
       "      <td>6</td>\n",
       "      <td>30</td>\n",
       "      <td>4</td>\n",
       "      <td>5</td>\n",
       "      <td>2</td>\n",
       "      <td>0</td>\n",
       "      <td>17.54</td>\n",
       "      <td>1711</td>\n",
       "      <td>48.0</td>\n",
       "      <td>1.3</td>\n",
       "      <td>5.54</td>\n",
       "      <td>0.00</td>\n",
       "      <td>54.84</td>\n",
       "      <td>2</td>\n",
       "    </tr>\n",
       "  </tbody>\n",
       "</table>\n",
       "<p>2013 rows × 15 columns</p>\n",
       "</div>"
      ],
      "text/plain": [
       "      pickup_year  pickup_month  pickup_day  pickup_dayofweek  pickup_time  \\\n",
       "0            2016             1           1                 5            0   \n",
       "1            2016             1           1                 5            0   \n",
       "2            2016             1           1                 5            0   \n",
       "3            2016             1           1                 5            0   \n",
       "4            2016             1           1                 5            0   \n",
       "...           ...           ...         ...               ...          ...   \n",
       "2008         2016             6          30                 4            5   \n",
       "2009         2016             6          30                 4            5   \n",
       "2010         2016             6          30                 4            5   \n",
       "2011         2016             6          30                 4            5   \n",
       "2012         2016             6          30                 4            5   \n",
       "\n",
       "      pickup_location_code  dropoff_location_code  trip_distance  trip_length  \\\n",
       "0                        2                      4          21.00         2037   \n",
       "1                        2                      1          16.29         1520   \n",
       "2                        2                      6          12.70         1462   \n",
       "3                        2                      6           8.70         1210   \n",
       "4                        2                      6           5.56          759   \n",
       "...                    ...                    ...            ...          ...   \n",
       "2008                     3                      4           9.50         1989   \n",
       "2009                     2                      4          19.80         2368   \n",
       "2010                     2                      4          17.48         2822   \n",
       "2011                     2                      6          12.76         1083   \n",
       "2012                     2                      0          17.54         1711   \n",
       "\n",
       "      fare_amount  fees_amount  tolls_amount  tip_amount  total_amount  \\\n",
       "0            52.0          0.8          5.54       11.65         69.99   \n",
       "1            45.0          1.3          0.00        8.00         54.30   \n",
       "2            36.5          1.3          0.00        0.00         37.80   \n",
       "3            26.0          1.3          0.00        5.46         32.76   \n",
       "4            17.5          1.3          0.00        0.00         18.80   \n",
       "...           ...          ...           ...         ...           ...   \n",
       "2008         31.0          1.3          5.54        3.00         40.84   \n",
       "2009         52.0          0.8          5.54        0.00         58.34   \n",
       "2010         52.0          0.8          5.54        5.00         63.34   \n",
       "2011         34.5          1.3          0.00        8.95         44.75   \n",
       "2012         48.0          1.3          5.54        0.00         54.84   \n",
       "\n",
       "      payment_type  \n",
       "0                1  \n",
       "1                1  \n",
       "2                2  \n",
       "3                1  \n",
       "4                2  \n",
       "...            ...  \n",
       "2008             1  \n",
       "2009             1  \n",
       "2010             1  \n",
       "2011             1  \n",
       "2012             2  \n",
       "\n",
       "[2013 rows x 15 columns]"
      ]
     },
     "metadata": {},
     "output_type": "display_data"
    }
   ],
   "source": [
    "display(TAXI)"
   ]
  },
  {
   "cell_type": "markdown",
   "id": "237222c1",
   "metadata": {},
   "source": [
    "The dataset contains `2013 rows` and `15 columns`"
   ]
  },
  {
   "cell_type": "code",
   "execution_count": 6,
   "id": "64924b5d",
   "metadata": {},
   "outputs": [],
   "source": [
    "def check_quality_data(df,column):\n",
    "    quality_report = {\n",
    "        \"null_values\": df.isnull().sum().to_dict(),\n",
    "        \"duplicate_values\": df.duplicated().sum(),\n",
    "        \"unique_values\": len(df[column].unique()),\n",
    "        \"total_rows\": len(df),\n",
    "        \"dtype_columns\": df.dtypes\n",
    "    }\n",
    "    return quality_report"
   ]
  },
  {
   "cell_type": "code",
   "execution_count": 7,
   "id": "d4eb3bfd",
   "metadata": {},
   "outputs": [
    {
     "data": {
      "text/plain": [
       "{'null_values': {'pickup_year': 0,\n",
       "  'pickup_month': 0,\n",
       "  'pickup_day': 0,\n",
       "  'pickup_dayofweek': 0,\n",
       "  'pickup_time': 0,\n",
       "  'pickup_location_code': 0,\n",
       "  'dropoff_location_code': 0,\n",
       "  'trip_distance': 0,\n",
       "  'trip_length': 0,\n",
       "  'fare_amount': 0,\n",
       "  'fees_amount': 0,\n",
       "  'tolls_amount': 0,\n",
       "  'tip_amount': 0,\n",
       "  'total_amount': 0,\n",
       "  'payment_type': 0},\n",
       " 'duplicate_values': 0,\n",
       " 'unique_values': 1,\n",
       " 'total_rows': 2013,\n",
       " 'dtype_columns': pickup_year                int64\n",
       " pickup_month               int64\n",
       " pickup_day                 int64\n",
       " pickup_dayofweek           int64\n",
       " pickup_time                int64\n",
       " pickup_location_code       int64\n",
       " dropoff_location_code      int64\n",
       " trip_distance            float64\n",
       " trip_length                int64\n",
       " fare_amount              float64\n",
       " fees_amount              float64\n",
       " tolls_amount             float64\n",
       " tip_amount               float64\n",
       " total_amount             float64\n",
       " payment_type               int64\n",
       " dtype: object}"
      ]
     },
     "metadata": {},
     "output_type": "display_data"
    }
   ],
   "source": [
    "quality_report = check_quality_data(df=TAXI,column=\"pickup_year\")\n",
    "display(quality_report)"
   ]
  },
  {
   "cell_type": "markdown",
   "id": "d069ae9c",
   "metadata": {},
   "source": [
    "There is no need to clean the dataset "
   ]
  },
  {
   "cell_type": "markdown",
   "id": "baac9af3",
   "metadata": {},
   "source": [
    "## NYC Taxi Data Taxi Trips and Time Patterns"
   ]
  },
  {
   "cell_type": "markdown",
   "id": "b68e561a",
   "metadata": {},
   "source": [
    "Let's move on to answer the first question: ***How many taxi trips were taken in a particular month?***"
   ]
  },
  {
   "cell_type": "markdown",
   "id": "c6286eb7",
   "metadata": {},
   "source": [
    "- To calculate the number of taxi trips in each month <span style=\"color: red;\"> ***which months have the highest or lowest demand for-hire tax services***.\n",
    "- I'm going to do it for some steps:\n",
    "    + Step 1: Creating a `defaultdict(int)` to count the frequency values in each month\n",
    "    + Step 2: Loop through dataset to\n",
    "    + Step 3: Using syntax: ***calender.month_name[number]*** to convert to month_name => 1 -> \"January\"\n",
    "    + Step 4: `counts_by_month[month_name]` works like this - if `month_name` is already in the dictionary => +=1; if not in => set to 1\n",
    "\n",
    "<span style=\"color:red;\">*** Note: you can also create a def(freq_table) function || using value_counts in pandas (remember the type)"
   ]
  },
  {
   "cell_type": "code",
   "execution_count": 8,
   "id": "b19edc8f",
   "metadata": {},
   "outputs": [
    {
     "data": {
      "text/markdown": [
       "Total trips by month: ***{'January': 800, 'February': 176, 'March': 554, 'April': 171, 'June': 312}***"
      ],
      "text/plain": [
       "<IPython.core.display.Markdown object>"
      ]
     },
     "metadata": {},
     "output_type": "display_data"
    }
   ],
   "source": [
    "counts_by_month = defaultdict(int)\n",
    "for row in taxi:\n",
    "    month_number = row[1]\n",
    "    month_name = calendar.month_name[month_number]\n",
    "    counts_by_month[month_name] +=1 \n",
    "counts_by_month = dict(counts_by_month)\n",
    "\n",
    "#display the result\n",
    "display(Markdown(f\"Total trips by month: ***{counts_by_month}***\"))"
   ]
  },
  {
   "cell_type": "markdown",
   "id": "ad3d6a73",
   "metadata": {},
   "source": [
    "# Visualiztion: Piechart"
   ]
  },
  {
   "cell_type": "markdown",
   "id": "965ef92a",
   "metadata": {},
   "source": [
    "To visualize the ***piechart*** with the percentage for each month in the first half of 2016, i will convert `counts_by_month` dictionary to 2-D for use with Matplotlib."
   ]
  },
  {
   "cell_type": "code",
   "execution_count": 9,
   "id": "619fcd41",
   "metadata": {},
   "outputs": [],
   "source": [
    "counts_by_month = np.array(list(counts_by_month.items()))\n",
    "month_name = counts_by_month[:,0]\n",
    "taxi_trips = counts_by_month[:,1]"
   ]
  },
  {
   "cell_type": "code",
   "execution_count": 10,
   "id": "4e8e5378",
   "metadata": {},
   "outputs": [
    {
     "data": {
      "image/png": "[encoded data removed]",
      "text/plain": [
       "<Figure size 640x480 with 1 Axes>"
      ]
     },
     "metadata": {},
     "output_type": "display_data"
    }
   ],
   "source": [
    "#plt.style.available\n",
    "explode = [0.1,0,0,0,0]\n",
    "colors = ['#15bf39','#ff0707','#35a6f4','#ecf830','#ee9943']\n",
    "plt.style.use('fivethirtyeight')\n",
    "plt.pie(taxi_trips,explode=explode,labels = month_name, autopct='%1.1f%%',\n",
    "        colors=colors, shadow=True, wedgeprops = {'edgecolor':'black'})\n",
    "\n",
    "plt.title(\"Taxi Trips by Month in 2016\")\n",
    "plt.grid()\n",
    "plt.tight_layout()\n",
    "plt.legend(loc=\"center left\", bbox_to_anchor=(1, 0.5))\n",
    "#plt.savefig('PieChartTaxi.png')\n",
    "plt.show()"
   ]
  },
  {
   "cell_type": "markdown",
   "id": "4cc4cc98",
   "metadata": {},
   "source": [
    "### Number of pickups in a specific month"
   ]
  },
  {
   "cell_type": "markdown",
   "id": "c66da325",
   "metadata": {},
   "source": [
    "I'm curious to know which airports had the ***highest number of pickups each month and why***. "
   ]
  },
  {
   "cell_type": "markdown",
   "id": "bdf72f11",
   "metadata": {},
   "source": [
    "- ✈️ To calculate the number of pickups in a specific month and determine which aiports had the highest number of pickups, i will create a function called ***airport_month*** that takes `4 parameters`:\n",
    "     1. `Dataset`: the NYC Taxi dataset\n",
    "     2. `Aiport_index`: the index of pickup location code (explained in the mapping table)\n",
    "     3. `month_index`: the index of the \"month\" column\n",
    "     4. `m_number`: the month number to filter (eg: 1 for January, 2 for February,etc)\n",
    "* Calculating process:\n",
    "    - Step 1: Create a `defaultdict` to count the frequency of pickups at each aiport.\n",
    "    - Step 2: Loop thourgh the dataset to extract the airport code and month number.\n",
    "    - Step 3: Use if condition: if ***month_number*** matches ***m_number*** => Dictionary +=1"
   ]
  },
  {
   "cell_type": "code",
   "execution_count": 11,
   "id": "51d87547",
   "metadata": {
    "scrolled": true
   },
   "outputs": [],
   "source": [
    "def airport_month(dataset, airport_index, month_index, m_number):\n",
    "    from collections import defaultdict\n",
    "    airport_name = {0:\"Bronx\", 1:\"Brooklyn\", 2:\"JFK\", 3:\"LaGuardia\", 4:\"Manhattan\",5:\"Newark_Airport\",6:\"Queens\",7:\"Staten_Island\"}\n",
    "    airport_count = defaultdict(int)\n",
    "    for row in dataset:\n",
    "        airport_code = row[airport_index]\n",
    "        month_number = row[month_index]\n",
    "        if month_number == m_number and  airport_code in airport_name:\n",
    "            name = airport_name[airport_code]\n",
    "            airport_count[name] += 1\n",
    "    airport_count = dict(airport_count)\n",
    "    return airport_count"
   ]
  },
  {
   "cell_type": "code",
   "execution_count": 12,
   "id": "f030ae4b",
   "metadata": {},
   "outputs": [],
   "source": [
    "Jan_airport = airport_month(taxi,5,1,1) #January\n",
    "Feb_airport = airport_month(taxi,5,1,2) #Feb\n",
    "Mar_airport = airport_month(taxi,5,1,3) #March\n",
    "Apr_airport = airport_month(taxi,5,1,4) #April\n",
    "Jun_airport = airport_month(taxi,5,1,6) #June"
   ]
  },
  {
   "cell_type": "code",
   "execution_count": 13,
   "id": "77b88d84",
   "metadata": {},
   "outputs": [
    {
     "data": {
      "text/plain": [
       "\"January: {'JFK': 330, 'Manhattan': 185, 'Queens': 8, 'Brooklyn': 1, 'LaGuardia': 276}\""
      ]
     },
     "metadata": {},
     "output_type": "display_data"
    },
    {
     "data": {
      "text/plain": [
       "\"February: {'Manhattan': 51, 'JFK': 60, 'LaGuardia': 64, 'Queens': 1}\""
      ]
     },
     "metadata": {},
     "output_type": "display_data"
    },
    {
     "data": {
      "text/plain": [
       "\"March: {'JFK': 162, 'LaGuardia': 210, 'Manhattan': 173, 'Queens': 6, 'Bronx': 1, 'Brooklyn': 2}\""
      ]
     },
     "metadata": {},
     "output_type": "display_data"
    },
    {
     "data": {
      "text/plain": [
       "\"April: {'LaGuardia': 78, 'Manhattan': 30, 'JFK': 63}\""
      ]
     },
     "metadata": {},
     "output_type": "display_data"
    },
    {
     "data": {
      "text/plain": [
       "\"June: {'Manhattan': 74, 'JFK': 109, 'LaGuardia': 127, 'Queens': 1, 'Brooklyn': 1}\""
      ]
     },
     "metadata": {},
     "output_type": "display_data"
    }
   ],
   "source": [
    "display(f\"January: {Jan_airport}\")\n",
    "display(f\"February: {Feb_airport}\")\n",
    "display(f\"March: {Mar_airport}\")\n",
    "display(f\"April: {Apr_airport}\")\n",
    "display(f\"June: {Jun_airport}\")"
   ]
  },
  {
   "cell_type": "markdown",
   "id": "6dc0f450",
   "metadata": {},
   "source": [
    "### Taxi Trips by Month Overview\n",
    "- During the six-month period in 2016, NYC FHV(For-hire vehicle) services showed trends:\n",
    "> - In ***January*** and ***March***, FHV usage was high, which accounting for `39.7%` and `27.5%` of the total trips, with `880` and `554` services used by passengers, respectively. Additionally, **JFK**(`330 trips`) and **LaGuardia**(`210 trips`) recorded the highest number of taxi trips during these months.\n",
    "> - ***June*** followed in the third place took up to `15,5%` of the total trips (`312 trips`), with **LaGuardia** attracting mostly customers\n",
    "> - ***February*** & ***April*** were the least in taxi trips with a `less than 10%`\n",
    "- <span style=\"color:red;\"> Overall, across all months, ***JFK*** and ***LaGuardia*** airports had the higher number of taxi trips compared to other aiports."
   ]
  },
  {
   "cell_type": "markdown",
   "id": "a700028b",
   "metadata": {},
   "source": [
    "## The date in a month with the highest number of trips"
   ]
  },
  {
   "cell_type": "markdown",
   "id": "cd9bd105",
   "metadata": {},
   "source": [
    "Let's dig deeper inside the chart. I'm quite curious that <span style=\"color:red;\">***which is a busiest day in a month***"
   ]
  },
  {
   "cell_type": "markdown",
   "id": "5da857f3",
   "metadata": {},
   "source": [
    "- Calculating process:\n",
    "    - Step 1: Select all columns for a given set of rows from Ndarrays `[day,month,year]`.\n",
    "    - Step 2: Create a `defaultdict` called \"counts_by_date\" to count the frequency in each date\n",
    "    - Step 3: Loop thourgh new dataset from step 1 by using zip() function to  connect the three lists and format them as (day/month/year) dates.\n",
    "    - Step 4: If date already in the dictionary, increment 1. If it isn't, equal 1."
   ]
  },
  {
   "cell_type": "code",
   "execution_count": 14,
   "id": "2c995b3a",
   "metadata": {},
   "outputs": [
    {
     "data": {
      "text/plain": [
       "{'1/1/2016': 367,\n",
       " '2/1/2016': 31,\n",
       " '4/1/2016': 191,\n",
       " '5/1/2016': 110,\n",
       " '22/1/2016': 101,\n",
       " '13/2/2016': 176,\n",
       " '3/3/2016': 18,\n",
       " '4/3/2016': 183,\n",
       " '23/3/2016': 151,\n",
       " '28/3/2016': 126,\n",
       " '30/3/2016': 76,\n",
       " '24/4/2016': 171,\n",
       " '30/6/2016': 312}"
      ]
     },
     "metadata": {},
     "output_type": "display_data"
    }
   ],
   "source": [
    "pickup_day = taxi[:,2]\n",
    "pickup_month = taxi[:,1]\n",
    "pickup_year = taxi[:,0]\n",
    "\n",
    "counts_by_date = defaultdict(int)\n",
    "for day,month,year in zip(pickup_day,pickup_month,pickup_year): # Eg: [(1, 'Jan', 2023), (2, 'Feb', 2023), (3, 'Mar', 2023)]\n",
    "    date = f\"{day}/{month}/{year}\"\n",
    "    counts_by_date[date] +=1\n",
    "counts_by_date = dict(counts_by_date)\n",
    "display(counts_by_date)"
   ]
  },
  {
   "cell_type": "markdown",
   "id": "ecca12fc",
   "metadata": {},
   "source": [
    "📅I have a dictionary where {key} is date and {values} represents number of taxi trips. Now,let's to find out the date in each month that has the highest number of trips."
   ]
  },
  {
   "cell_type": "markdown",
   "id": "31d1ea4a",
   "metadata": {},
   "source": [
    "- First of all, I'm going to create a dictionary that stores ***{month_year,(date,trips)}***.\n",
    "- Loop through the dictionary above to extract month/year for ***month_key***.\n",
    "- Inside the loop, i'll use `if statement` to say: \n",
    "    - If ***month_year*** already in the dictionary and current date's number of trips is greater=> Update date,trips to the dictionary.\n",
    "    - If ***month_year*** isn't in the dictionary => Add to the dict with (date,trips)"
   ]
  },
  {
   "cell_type": "code",
   "execution_count": 15,
   "id": "2b992e28",
   "metadata": {},
   "outputs": [
    {
     "name": "stdout",
     "output_type": "stream",
     "text": [
      "{'1/2016': ('1/1/2016', 367), '2/2016': ('13/2/2016', 176), '3/2016': ('4/3/2016', 183), '4/2016': ('24/4/2016', 171), '6/2016': ('30/6/2016', 312)}\n"
     ]
    },
    {
     "data": {
      "text/markdown": [
       "📅 1/2016: The date with highest number of trips was `1/1/2016`,with **367**."
      ],
      "text/plain": [
       "<IPython.core.display.Markdown object>"
      ]
     },
     "metadata": {},
     "output_type": "display_data"
    },
    {
     "data": {
      "text/markdown": [
       "📅 2/2016: The date with highest number of trips was `13/2/2016`,with **176**."
      ],
      "text/plain": [
       "<IPython.core.display.Markdown object>"
      ]
     },
     "metadata": {},
     "output_type": "display_data"
    },
    {
     "data": {
      "text/markdown": [
       "📅 3/2016: The date with highest number of trips was `4/3/2016`,with **183**."
      ],
      "text/plain": [
       "<IPython.core.display.Markdown object>"
      ]
     },
     "metadata": {},
     "output_type": "display_data"
    },
    {
     "data": {
      "text/markdown": [
       "📅 4/2016: The date with highest number of trips was `24/4/2016`,with **171**."
      ],
      "text/plain": [
       "<IPython.core.display.Markdown object>"
      ]
     },
     "metadata": {},
     "output_type": "display_data"
    },
    {
     "data": {
      "text/markdown": [
       "📅 6/2016: The date with highest number of trips was `30/6/2016`,with **312**."
      ],
      "text/plain": [
       "<IPython.core.display.Markdown object>"
      ]
     },
     "metadata": {},
     "output_type": "display_data"
    }
   ],
   "source": [
    "months_max = {}\n",
    "for date,trips in counts_by_date.items():\n",
    "    day,month,year = date.split(\"/\")\n",
    "    month_year = f\"{month}/{year}\"\n",
    "    \n",
    "    if (month_year in months_max) and (months_max[month_year][1] < trips):\n",
    "        months_max[month_year] = (date,trips)\n",
    "    elif month_year not in months_max:\n",
    "        months_max[month_year] = (date,trips)\n",
    "print(months_max)\n",
    "\n",
    "for month,(top_date,max_trips) in months_max.items():\n",
    "    display(Markdown(f\"📅 {month}: The date with highest number of trips was `{top_date}`,with **{max_trips}**.\"))"
   ]
  },
  {
   "cell_type": "markdown",
   "id": "1469c46f",
   "metadata": {},
   "source": [
    "## Analyzing Airport Pickup Traffic in the US"
   ]
  },
  {
   "cell_type": "code",
   "execution_count": 16,
   "id": "517ee3a7",
   "metadata": {},
   "outputs": [],
   "source": [
    "def pick_up_airport(dataset,col_index,code):\n",
    "    airport = dataset[dataset[:,col_index] == code]\n",
    "    airport_count = airport.shape[0]\n",
    "    return airport_count"
   ]
  },
  {
   "cell_type": "code",
   "execution_count": 17,
   "id": "40ce5879",
   "metadata": {},
   "outputs": [],
   "source": [
    "Bronx = pick_up_airport(taxi,5,0)\n",
    "Brooklyn = pick_up_airport(taxi,5,1)\n",
    "JFK = pick_up_airport(taxi,5,2)\n",
    "LaGuardia = pick_up_airport(taxi,5,3)\n",
    "Manhattan = pick_up_airport(taxi,5,4)\n",
    "Newark_Airport = pick_up_airport(taxi,5,5)\n",
    "Queens = pick_up_airport(taxi,5,6)\n",
    "Staten_Island = pick_up_airport(taxi,5,7)"
   ]
  },
  {
   "cell_type": "code",
   "execution_count": 18,
   "id": "0ea82687",
   "metadata": {},
   "outputs": [
    {
     "data": {
      "text/plain": [
       "[('LaGuardia', 755),\n",
       " ('JFK', 724),\n",
       " ('Manhattan', 513),\n",
       " ('Queens', 16),\n",
       " ('Brooklyn', 4),\n",
       " ('Bronx', 1),\n",
       " ('Newark_Airport', 0),\n",
       " ('Staten_Island', 0)]"
      ]
     },
     "metadata": {},
     "output_type": "display_data"
    }
   ],
   "source": [
    "airports = np.array([\"Bronx\",\"Brooklyn\",\"JFK\",\"LaGuardia\",\"Manhattan\",\"Newark_Airport\",\"Queens\",\"Staten_Island\"])\n",
    "pick_ups = np.array([Bronx,Brooklyn,JFK,LaGuardia,Manhattan,Newark_Airport,Queens,Staten_Island])\n",
    "\n",
    "airport_traffic = dict(zip(airports,pick_ups))\n",
    "sorted_traffic = sorted(airport_traffic.items(),key=lambda x:x[1],reverse=True)\n",
    "display(sorted_traffic)"
   ]
  },
  {
   "cell_type": "code",
   "execution_count": 19,
   "id": "fdad50b3",
   "metadata": {},
   "outputs": [
    {
     "data": {
      "text/markdown": [
       "**LaGuardia** Airport has the most **755** taxi trips in half of 2016"
      ],
      "text/plain": [
       "<IPython.core.display.Markdown object>"
      ]
     },
     "metadata": {},
     "output_type": "display_data"
    }
   ],
   "source": [
    "display(Markdown(f\"**{airports[pick_ups.argmax()]}** Airport has the most **{pick_ups.max()}** taxi trips in half of 2016\"))"
   ]
  },
  {
   "cell_type": "markdown",
   "id": "7e69da35",
   "metadata": {},
   "source": [
    "# Visualization: Bar Chart"
   ]
  },
  {
   "cell_type": "code",
   "execution_count": 20,
   "id": "ad772952",
   "metadata": {},
   "outputs": [],
   "source": [
    "pick_ups = []\n",
    "airports = []\n",
    "for aprt, pickups in sorted_traffic:\n",
    "    airports.append(aprt)\n",
    "    pick_ups.append(pickups)"
   ]
  },
  {
   "cell_type": "code",
   "execution_count": 21,
   "id": "cf81b9cf",
   "metadata": {},
   "outputs": [
    {
     "data": {
      "image/png": "[encoded data removed]",
      "text/plain": [
       "<Figure size 640x480 with 1 Axes>"
      ]
     },
     "metadata": {},
     "output_type": "display_data"
    }
   ],
   "source": [
    "def add_labels(x, y):\n",
    "    for i in range(len(x)):\n",
    "        plt.text(y[i] + 100, i, str(y[i]), va='center')\n",
    "plt.style.use('fivethirtyeight')\n",
    "\n",
    "#Reverse\n",
    "pick_ups.reverse()\n",
    "airports.reverse()\n",
    "#Creating and Data for \n",
    "plt.barh(airports,pick_ups,color=\"Skyblue\")\n",
    "add_labels(airports,pick_ups)\n",
    "\n",
    "# Adding title, labels\n",
    "plt.title(\"Analysis Taxi Pickups by Location in 2016\")\n",
    "plt.ylabel(\"Airport Locations\")\n",
    "plt.xlabel(\"Number of Pickups\")\n",
    "\n",
    "#Display the chart\n",
    "plt.grid()\n",
    "#plt.savefig('Barhchart.png')\n",
    "plt.show()"
   ]
  },
  {
   "cell_type": "markdown",
   "id": "0dfcf150",
   "metadata": {},
   "source": [
    "### Taxi Pickups Overview\n",
    " - Generally, ***LaGuardian, JFK, Mahattan*** were the top pickup locations, accounting for `1,992 trips out of 2,013`- <span style=\"color:red;\"> ***which reflects a significant concentration of taxi traffic than other airports in the dataset***.\n",
    "    > - 👉 There are two possible reasons for this traffic. First one is the holiday travel during chirstmast and New Year. Additionally, on January 20-22, people were affected by the blizzard,  because of safety condition, they were choosing the taxi services.\n",
    "    > - 🔒 Link: https://en.wikipedia.org/wiki/January_2016_United_States_blizzard \n",
    "    \n",
    "- Taxi Pickups from `Queens`, `Brooklyn`, `Bronx`, `Newark` and `Statent Island` airports are surprisingly low - fewer than 20 recorded trips. <span style=\"color:red;\"> ***The reason due to the limitations in the dataset i downloaded. As a result, it's impossible to analyze these airports***."
   ]
  },
  {
   "cell_type": "markdown",
   "id": "b471525f",
   "metadata": {},
   "source": [
    "### Revenues of Airports with Payment Method"
   ]
  },
  {
   "cell_type": "markdown",
   "id": "87f747d8",
   "metadata": {},
   "source": [
    "Before moving to the final question,i'm going to calculate the revenue of each aiports with the payment type"
   ]
  },
  {
   "cell_type": "code",
   "execution_count": 22,
   "id": "97cd213f",
   "metadata": {},
   "outputs": [
    {
     "data": {
      "text/html": [
       "<div>\n",
       "<style scoped>\n",
       "    .dataframe tbody tr th:only-of-type {\n",
       "        vertical-align: middle;\n",
       "    }\n",
       "\n",
       "    .dataframe tbody tr th {\n",
       "        vertical-align: top;\n",
       "    }\n",
       "\n",
       "    .dataframe thead th {\n",
       "        text-align: right;\n",
       "    }\n",
       "</style>\n",
       "<table border=\"1\" class=\"dataframe\">\n",
       "  <thead>\n",
       "    <tr style=\"text-align: right;\">\n",
       "      <th></th>\n",
       "      <th>pickup_year</th>\n",
       "      <th>pickup_month</th>\n",
       "      <th>pickup_day</th>\n",
       "      <th>pickup_dayofweek</th>\n",
       "      <th>pickup_time</th>\n",
       "      <th>pickup_location_code</th>\n",
       "      <th>dropoff_location_code</th>\n",
       "      <th>trip_distance</th>\n",
       "      <th>trip_length</th>\n",
       "      <th>fare_amount</th>\n",
       "      <th>fees_amount</th>\n",
       "      <th>tolls_amount</th>\n",
       "      <th>tip_amount</th>\n",
       "      <th>total_amount</th>\n",
       "      <th>payment_type</th>\n",
       "    </tr>\n",
       "  </thead>\n",
       "  <tbody>\n",
       "    <tr>\n",
       "      <th>0</th>\n",
       "      <td>2016</td>\n",
       "      <td>1</td>\n",
       "      <td>1</td>\n",
       "      <td>5</td>\n",
       "      <td>0</td>\n",
       "      <td>2</td>\n",
       "      <td>4</td>\n",
       "      <td>21.00</td>\n",
       "      <td>2037</td>\n",
       "      <td>52.0</td>\n",
       "      <td>0.8</td>\n",
       "      <td>5.54</td>\n",
       "      <td>11.65</td>\n",
       "      <td>69.99</td>\n",
       "      <td>1</td>\n",
       "    </tr>\n",
       "    <tr>\n",
       "      <th>1</th>\n",
       "      <td>2016</td>\n",
       "      <td>1</td>\n",
       "      <td>1</td>\n",
       "      <td>5</td>\n",
       "      <td>0</td>\n",
       "      <td>2</td>\n",
       "      <td>1</td>\n",
       "      <td>16.29</td>\n",
       "      <td>1520</td>\n",
       "      <td>45.0</td>\n",
       "      <td>1.3</td>\n",
       "      <td>0.00</td>\n",
       "      <td>8.00</td>\n",
       "      <td>54.30</td>\n",
       "      <td>1</td>\n",
       "    </tr>\n",
       "  </tbody>\n",
       "</table>\n",
       "</div>"
      ],
      "text/plain": [
       "   pickup_year  pickup_month  pickup_day  pickup_dayofweek  pickup_time  \\\n",
       "0         2016             1           1                 5            0   \n",
       "1         2016             1           1                 5            0   \n",
       "\n",
       "   pickup_location_code  dropoff_location_code  trip_distance  trip_length  \\\n",
       "0                     2                      4          21.00         2037   \n",
       "1                     2                      1          16.29         1520   \n",
       "\n",
       "   fare_amount  fees_amount  tolls_amount  tip_amount  total_amount  \\\n",
       "0         52.0          0.8          5.54       11.65         69.99   \n",
       "1         45.0          1.3          0.00        8.00         54.30   \n",
       "\n",
       "   payment_type  \n",
       "0             1  \n",
       "1             1  "
      ]
     },
     "execution_count": 22,
     "metadata": {},
     "output_type": "execute_result"
    }
   ],
   "source": [
    "TAXI.head(2)"
   ]
  },
  {
   "cell_type": "code",
   "execution_count": 23,
   "id": "0b243fe1",
   "metadata": {},
   "outputs": [
    {
     "data": {
      "text/html": [
       "<div>\n",
       "<style scoped>\n",
       "    .dataframe tbody tr th:only-of-type {\n",
       "        vertical-align: middle;\n",
       "    }\n",
       "\n",
       "    .dataframe tbody tr th {\n",
       "        vertical-align: top;\n",
       "    }\n",
       "\n",
       "    .dataframe thead th {\n",
       "        text-align: right;\n",
       "    }\n",
       "</style>\n",
       "<table border=\"1\" class=\"dataframe\">\n",
       "  <thead>\n",
       "    <tr style=\"text-align: right;\">\n",
       "      <th></th>\n",
       "      <th>airport_code</th>\n",
       "      <th>revenues</th>\n",
       "      <th>payment_code</th>\n",
       "      <th>airport_name</th>\n",
       "      <th>payment_method</th>\n",
       "    </tr>\n",
       "  </thead>\n",
       "  <tbody>\n",
       "    <tr>\n",
       "      <th>0</th>\n",
       "      <td>2</td>\n",
       "      <td>69.99</td>\n",
       "      <td>1</td>\n",
       "      <td>JFK</td>\n",
       "      <td>Credit Card</td>\n",
       "    </tr>\n",
       "    <tr>\n",
       "      <th>1</th>\n",
       "      <td>2</td>\n",
       "      <td>54.30</td>\n",
       "      <td>1</td>\n",
       "      <td>JFK</td>\n",
       "      <td>Credit Card</td>\n",
       "    </tr>\n",
       "    <tr>\n",
       "      <th>2</th>\n",
       "      <td>2</td>\n",
       "      <td>37.80</td>\n",
       "      <td>2</td>\n",
       "      <td>JFK</td>\n",
       "      <td>Cash</td>\n",
       "    </tr>\n",
       "    <tr>\n",
       "      <th>3</th>\n",
       "      <td>2</td>\n",
       "      <td>32.76</td>\n",
       "      <td>1</td>\n",
       "      <td>JFK</td>\n",
       "      <td>Credit Card</td>\n",
       "    </tr>\n",
       "    <tr>\n",
       "      <th>4</th>\n",
       "      <td>2</td>\n",
       "      <td>18.80</td>\n",
       "      <td>2</td>\n",
       "      <td>JFK</td>\n",
       "      <td>Cash</td>\n",
       "    </tr>\n",
       "  </tbody>\n",
       "</table>\n",
       "</div>"
      ],
      "text/plain": [
       "   airport_code  revenues  payment_code airport_name payment_method\n",
       "0             2     69.99             1          JFK    Credit Card\n",
       "1             2     54.30             1          JFK    Credit Card\n",
       "2             2     37.80             2          JFK           Cash\n",
       "3             2     32.76             1          JFK    Credit Card\n",
       "4             2     18.80             2          JFK           Cash"
      ]
     },
     "execution_count": 23,
     "metadata": {},
     "output_type": "execute_result"
    }
   ],
   "source": [
    "# Copy dataframe\n",
    "s = TAXI.copy()\n",
    "\n",
    "#Rename columns or index labels\n",
    "s = s.rename(columns={\"pickup_location_code\":\"airport_code\", \"total_amount\":\"revenues\",\"payment_type\":\"payment_code\"})\n",
    "s.loc[:,[\"airport_code\",\"revenues\",\"payment_code\"]]\n",
    "\n",
    "#Create a column \"airport_name\", \"payment_method\"\n",
    "code_to_name = {0:\"Bronx\", 1:\"Brooklyn\", 2:\"JFK\", 3:\"LaGuardia\", 4:\"Manhattan\",5:\"Newark_Airport\",6:\"Queens\",7:\"Staten_Island\"}\n",
    "s[\"airport_name\"] = s[\"airport_code\"].map(code_to_name) #map(dict) sẽ tra cứu từng giá trị trong airport_code và trả về tên tương ứng từ dictionary.\n",
    "\n",
    "code_to_payment = {1: \"Credit Card\",2: \"Cash\",3: \"No Charge\",4: \"Dispute\",5: \"Unknown\",6: \"Voided Trip\"}\n",
    "s[\"payment_method\"] = s[\"payment_code\"].map(code_to_payment)\n",
    "\n",
    "\n",
    "\n",
    "#remove unnecessary columns\n",
    "s = s.drop(['pickup_year','pickup_month','pickup_day','pickup_dayofweek','pickup_time','dropoff_location_code','trip_distance','trip_length','fare_amount','fees_amount','tolls_amount','tip_amount'], axis=1)\n",
    "\n",
    "#Display result\n",
    "s.head()"
   ]
  },
  {
   "cell_type": "markdown",
   "id": "4d31acef",
   "metadata": {},
   "source": [
    "# Visualization: Stacked BarChart"
   ]
  },
  {
   "cell_type": "code",
   "execution_count": 24,
   "id": "5225b225",
   "metadata": {},
   "outputs": [
    {
     "data": {
      "image/png": "[encoded data removed]",
      "text/plain": [
       "<Figure size 1000x600 with 1 Axes>"
      ]
     },
     "metadata": {},
     "output_type": "display_data"
    }
   ],
   "source": [
    "grouped = s.groupby([\"airport_name\",\"payment_method\"])[\"revenues\"].sum().unstack(fill_value=0)\n",
    "\n",
    "#Stacked bar chart\n",
    "grouped.plot(kind='bar', stacked=True, figsize=(10, 6))\n",
    "\n",
    "#Title, x-label, y-label\n",
    "plt.title(\"Revenue by Airport and Payment Type\")\n",
    "plt.xlabel(\"Airport Locations\")\n",
    "plt.ylabel(\"Revenues\")\n",
    "plt.xticks(rotation=45)\n",
    "\n",
    "#decoration\n",
    "plt.legend(title=\"Payment\",loc=\"center left\", bbox_to_anchor=(1, 0.5))\n",
    "plt.tight_layout()\n",
    "plt.grid()\n",
    "\n",
    "#display the result\n",
    "#plt.savefig(\"RevenueStackedBarChart.png\")\n",
    "plt.show()"
   ]
  },
  {
   "cell_type": "markdown",
   "id": "2d1b1d3b",
   "metadata": {},
   "source": [
    "# Calculating averages for trip distance, trip length and total amount for rides under a particular speed"
   ]
  },
  {
   "cell_type": "code",
   "execution_count": 25,
   "id": "de3db1f0",
   "metadata": {},
   "outputs": [],
   "source": [
    "trip_distance = taxi[:,7]\n",
    "trip_length = taxi[:,8]\n",
    "trip_mph = (trip_distance / (trip_length/3600))\n",
    "\n",
    "#Under a particular speed means meet safe speed < 100 mph\n",
    "safe_speed = taxi[trip_mph <100]\n",
    "\n",
    "mean_distance = safe_speed[:,7].mean()\n",
    "mean_length = safe_speed[:,8].mean()\n",
    "mean_total = safe_speed[:,13].mean()"
   ]
  },
  {
   "cell_type": "code",
   "execution_count": 26,
   "id": "e3fdd586",
   "metadata": {},
   "outputs": [
    {
     "name": "stdout",
     "output_type": "stream",
     "text": [
      "Average trips with safe speed: 12.44\n",
      "Average trip lenghts in minutes: 37.86\n",
      "Average total  per trip: $ 48.20\n"
     ]
    }
   ],
   "source": [
    "print(f\"Average trips with safe speed: {mean_distance:.2f}\")\n",
    "print(f\"Average trip lenghts in minutes: {mean_length/60:.2f}\")\n",
    "print(f\"Average total  per trip: $ {mean_total:.2f}\")"
   ]
  },
  {
   "cell_type": "markdown",
   "id": "8fdbadf7",
   "metadata": {},
   "source": [
    "# Visualiztion: Histogram Chart"
   ]
  },
  {
   "cell_type": "code",
   "execution_count": 27,
   "id": "83d87c98",
   "metadata": {},
   "outputs": [
    {
     "data": {
      "image/png": "[encoded data removed]",
      "text/plain": [
       "<Figure size 640x480 with 1 Axes>"
      ]
     },
     "metadata": {},
     "output_type": "display_data"
    }
   ],
   "source": [
    "plt.hist(trip_mph[trip_mph<200], bins=40, color=\"Skyblue\", edgecolor=\"black\")\n",
    "\n",
    "plt.title(\"Distribution of High-Speed Trips (mph)\")\n",
    "plt.xlabel(\"Speed (mph)\")\n",
    "plt.ylabel(\"Number of Trips\")\n",
    "\n",
    "plt.grid()\n",
    "plt.tight_layout()\n",
    "plt.show()"
   ]
  },
  {
   "cell_type": "markdown",
   "id": "4ed9b90c",
   "metadata": {},
   "source": [
    "# Conclusion"
   ]
  },
  {
   "cell_type": "markdown",
   "id": "72ec6e32",
   "metadata": {},
   "source": [
    "- The project focused on analyzing the NYC Taxi dataset to explore:\n",
    "> - ***Taxi Traffic Trends by months***\n",
    "> - ***The concentration of taxi traffic***\n",
    "> - ***The average metrics of a trip for customers***.\n",
    "- Avoiding speed above is necessary for safety, luckily in the dataset just only 9 cases.Additionally, the analysis of taxi revenue by airport and payment method shows that `JFK`, `LaGuardia`,`Manhattan` generated high incomes. This also <span style=\"color:red;\"> reflects the customers' behavior for mostly using credit card for payment. In contrast, due to limitations in dataset, we can't know the other aiport locations: `Bronx`,`Brooklyn` and `Queens`. \n",
    "- Recommendations based on the findings include:\n",
    "> - Improve vehicle distribution during peak months \n",
    "> - Invest marketing strategies(eg: discounts) to encourage the use of For-Hire Vehicles(FHV) services\n",
    "> - Collaborate with local business or events to boost ride demand\n",
    "> - Reinforce speed policies"
   ]
  }
 ],
 "metadata": {
  "kernelspec": {
   "display_name": "Python 3 (ipykernel)",
   "language": "python",
   "name": "python3"
  },
  "language_info": {
   "codemirror_mode": {
    "name": "ipython",
    "version": 3
   },
   "file_extension": ".py",
   "mimetype": "text/x-python",
   "name": "python",
   "nbconvert_exporter": "python",
   "pygments_lexer": "ipython3",
   "version": "3.12.3"
  }
 },
 "nbformat": 4,
 "nbformat_minor": 5
}
